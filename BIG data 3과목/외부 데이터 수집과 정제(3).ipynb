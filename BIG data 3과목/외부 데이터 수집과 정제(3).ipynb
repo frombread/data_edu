{
 "cells": [
  {
   "cell_type": "markdown",
   "metadata": {},
   "source": [
    "# 외부 데이터 수집과 정제"
   ]
  },
  {
   "cell_type": "code",
   "execution_count": 1,
   "metadata": {},
   "outputs": [],
   "source": [
    "import requests\n",
    "import lxml.html"
   ]
  },
  {
   "cell_type": "code",
   "execution_count": 2,
   "metadata": {},
   "outputs": [
    {
     "name": "stdout",
     "output_type": "stream",
     "text": [
      "/store/books/look.php?p_code=B4416755821\n",
      "/store/books/look.php?p_code=B4416755821\n",
      "/store/books/look.php?p_code=B8753305821\n",
      "/store/books/look.php?p_code=B8753305821\n",
      "/store/books/look.php?p_code=B9612872259\n",
      "/store/books/look.php?p_code=B9612872259\n",
      "/store/books/look.php?p_code=B6367128158\n",
      "javascript:;\n",
      "/store/books/look.php?p_code=B6367128158\n",
      "/store/books/look.php?p_code=B2998156507\n",
      "/store/books/look.php?p_code=B2998156507\n",
      "/store/books/look.php?p_code=B8839851696\n",
      "javascript:;\n",
      "/store/books/look.php?p_code=B8839851696\n",
      "/store/books/look.php?p_code=B5373757319\n",
      "javascript:;\n",
      "/store/books/look.php?p_code=B5373757319\n",
      "/store/books/look.php?p_code=B2369016915\n",
      "javascript:;\n",
      "/store/books/look.php?p_code=B2369016915\n",
      "/store/books/look.php?p_code=B9992267828\n",
      "/store/books/look.php?p_code=B9992267828\n",
      "/store/books/look.php?p_code=B9564731917\n",
      "/store/books/look.php?p_code=B9564731917\n",
      "/store/books/look.php?p_code=B4153780113\n",
      "/store/books/look.php?p_code=B4153780113\n",
      "/store/books/look.php?p_code=B7179675656\n",
      "javascript:;\n",
      "/store/books/look.php?p_code=B7179675656\n",
      "/store/books/look.php?p_code=B7687052472\n",
      "javascript:;\n",
      "/store/books/look.php?p_code=B7687052472\n",
      "/store/books/look.php?p_code=B8671421572\n",
      "javascript:;\n",
      "/store/books/look.php?p_code=B8671421572\n",
      "/store/books/look.php?p_code=B8341772179\n",
      "/store/books/look.php?p_code=B8341772179\n",
      "/store/books/look.php?p_code=B8465247545\n",
      "javascript:;\n",
      "/store/books/look.php?p_code=B8465247545\n",
      "/store/books/look.php?p_code=B7208138035\n",
      "/store/books/look.php?p_code=B7208138035\n",
      "/store/books/look.php?p_code=B6607327754\n",
      "javascript:;\n",
      "/store/books/look.php?p_code=B6607327754\n",
      "/store/books/look.php?p_code=B2920695216\n",
      "javascript:;\n",
      "/store/books/look.php?p_code=B2920695216\n",
      "/store/books/look.php?p_code=B9807526516\n",
      "javascript:;\n",
      "/store/books/look.php?p_code=B9807526516\n"
     ]
    }
   ],
   "source": [
    "response = requests.get('http://www.hanbit.co.kr/store/books/new_book_list.html')\n",
    "root = lxml.html.fromstring(response.content)\n",
    "for a in root.cssselect('.view_box a'):\n",
    "    url = a.get('href')\n",
    "    print(url)"
   ]
  },
  {
   "cell_type": "code",
   "execution_count": 3,
   "metadata": {},
   "outputs": [],
   "source": [
    "import requests\n",
    "import lxml.html\n",
    "response = requests.get('http://www.hanbit.co.kr/store/books/new_book_list.html')\n",
    "root = lxml.html.fromstring(response.content)"
   ]
  },
  {
   "cell_type": "code",
   "execution_count": 4,
   "metadata": {},
   "outputs": [
    {
     "name": "stdout",
     "output_type": "stream",
     "text": [
      "https://www.hanbit.co.kr/store/books/look.php?p_code=B4416755821\n",
      "https://www.hanbit.co.kr/store/books/look.php?p_code=B8753305821\n",
      "https://www.hanbit.co.kr/store/books/look.php?p_code=B9612872259\n",
      "https://www.hanbit.co.kr/store/books/look.php?p_code=B6367128158\n",
      "https://www.hanbit.co.kr/store/books/look.php?p_code=B2998156507\n",
      "https://www.hanbit.co.kr/store/books/look.php?p_code=B8839851696\n",
      "https://www.hanbit.co.kr/store/books/look.php?p_code=B5373757319\n",
      "https://www.hanbit.co.kr/store/books/look.php?p_code=B2369016915\n",
      "https://www.hanbit.co.kr/store/books/look.php?p_code=B9992267828\n",
      "https://www.hanbit.co.kr/store/books/look.php?p_code=B9564731917\n",
      "https://www.hanbit.co.kr/store/books/look.php?p_code=B4153780113\n",
      "https://www.hanbit.co.kr/store/books/look.php?p_code=B7179675656\n",
      "https://www.hanbit.co.kr/store/books/look.php?p_code=B7687052472\n",
      "https://www.hanbit.co.kr/store/books/look.php?p_code=B8671421572\n",
      "https://www.hanbit.co.kr/store/books/look.php?p_code=B8341772179\n",
      "https://www.hanbit.co.kr/store/books/look.php?p_code=B8465247545\n",
      "https://www.hanbit.co.kr/store/books/look.php?p_code=B7208138035\n",
      "https://www.hanbit.co.kr/store/books/look.php?p_code=B6607327754\n",
      "https://www.hanbit.co.kr/store/books/look.php?p_code=B2920695216\n",
      "https://www.hanbit.co.kr/store/books/look.php?p_code=B9807526516\n"
     ]
    }
   ],
   "source": [
    "# 모든 링크를 절대 URL로 변환\n",
    "root.make_links_absolute(response.url)\n",
    "\n",
    "# 목록에서 javascript 제거\n",
    "for a in root.cssselect('.view_box .book_tit a'):\n",
    "    url = a.get('href')\n",
    "    print(url)"
   ]
  },
  {
   "cell_type": "code",
   "execution_count": 5,
   "metadata": {},
   "outputs": [],
   "source": [
    "import requests\n",
    "import lxml.html\n",
    "import re\n",
    "import time"
   ]
  },
  {
   "cell_type": "code",
   "execution_count": 6,
   "metadata": {},
   "outputs": [],
   "source": [
    "def main():\n",
    "    \"\"\"\n",
    "    크롤러의 메인 처리\n",
    "    \"\"\"\n",
    "    # 여러 페이지에서 크롤링을 위해 Session 사용\n",
    "    session = requests.Session()  \n",
    "    # scrape_list_page() 함수를 호출해서 제너레이터를 추출\n",
    "    response = session.get('http://www.hanbit.co.kr/store/books/new_book_list.html')\n",
    "    urls = scrape_list_page(response)\n",
    "    # 제너레이터는 list처럼 사용 가능\n",
    "    for url in urls:\n",
    "        print(url)\n",
    "        print('-'*70)"
   ]
  },
  {
   "cell_type": "code",
   "execution_count": 7,
   "metadata": {},
   "outputs": [],
   "source": [
    "def scrape_list_page(response):\n",
    "    root = lxml.html.fromstring(response.content)\n",
    "    root.make_links_absolute(response.url)\n",
    "    for a in root.cssselect('.view_box .book_tit a'):\n",
    "        url = a.get('href')\n",
    "        # yield 구문으로 제너레이터의 요소 반환\n",
    "        yield url"
   ]
  },
  {
   "cell_type": "code",
   "execution_count": 8,
   "metadata": {},
   "outputs": [
    {
     "name": "stdout",
     "output_type": "stream",
     "text": [
      "https://www.hanbit.co.kr/store/books/look.php?p_code=B4416755821\n",
      "----------------------------------------------------------------------\n",
      "https://www.hanbit.co.kr/store/books/look.php?p_code=B8753305821\n",
      "----------------------------------------------------------------------\n",
      "https://www.hanbit.co.kr/store/books/look.php?p_code=B9612872259\n",
      "----------------------------------------------------------------------\n",
      "https://www.hanbit.co.kr/store/books/look.php?p_code=B6367128158\n",
      "----------------------------------------------------------------------\n",
      "https://www.hanbit.co.kr/store/books/look.php?p_code=B2998156507\n",
      "----------------------------------------------------------------------\n",
      "https://www.hanbit.co.kr/store/books/look.php?p_code=B8839851696\n",
      "----------------------------------------------------------------------\n",
      "https://www.hanbit.co.kr/store/books/look.php?p_code=B5373757319\n",
      "----------------------------------------------------------------------\n",
      "https://www.hanbit.co.kr/store/books/look.php?p_code=B2369016915\n",
      "----------------------------------------------------------------------\n",
      "https://www.hanbit.co.kr/store/books/look.php?p_code=B9992267828\n",
      "----------------------------------------------------------------------\n",
      "https://www.hanbit.co.kr/store/books/look.php?p_code=B9564731917\n",
      "----------------------------------------------------------------------\n",
      "https://www.hanbit.co.kr/store/books/look.php?p_code=B4153780113\n",
      "----------------------------------------------------------------------\n",
      "https://www.hanbit.co.kr/store/books/look.php?p_code=B7179675656\n",
      "----------------------------------------------------------------------\n",
      "https://www.hanbit.co.kr/store/books/look.php?p_code=B7687052472\n",
      "----------------------------------------------------------------------\n",
      "https://www.hanbit.co.kr/store/books/look.php?p_code=B8671421572\n",
      "----------------------------------------------------------------------\n",
      "https://www.hanbit.co.kr/store/books/look.php?p_code=B8341772179\n",
      "----------------------------------------------------------------------\n",
      "https://www.hanbit.co.kr/store/books/look.php?p_code=B8465247545\n",
      "----------------------------------------------------------------------\n",
      "https://www.hanbit.co.kr/store/books/look.php?p_code=B7208138035\n",
      "----------------------------------------------------------------------\n",
      "https://www.hanbit.co.kr/store/books/look.php?p_code=B6607327754\n",
      "----------------------------------------------------------------------\n",
      "https://www.hanbit.co.kr/store/books/look.php?p_code=B2920695216\n",
      "----------------------------------------------------------------------\n",
      "https://www.hanbit.co.kr/store/books/look.php?p_code=B9807526516\n",
      "----------------------------------------------------------------------\n"
     ]
    }
   ],
   "source": [
    "if __name__ == '__main__':\n",
    "    main()"
   ]
  },
  {
   "cell_type": "code",
   "execution_count": 9,
   "metadata": {},
   "outputs": [],
   "source": [
    "def scrape_detail_page(response):\n",
    "    \"\"\"\n",
    "    상세 페이지의 Response에서 책 정보를 dict로 추출\n",
    "    \"\"\"\n",
    "    root = lxml.html.fromstring(response.content)\n",
    "    ebook = {\n",
    "        'url': response.url,\n",
    "        'title': root.cssselect('.store_product_info_box h3')[0].text_content(),\n",
    "        'price': root.cssselect('.pbr strong')[0].text_content(),\n",
    "        'content': [normalize_spaces(p.text_content())\n",
    "            for p in root.cssselect('#tabs_3 .hanbit_edit_view p')\n",
    "            if normalize_spaces(p.text_content()) != '']\n",
    "    }\n",
    "    return ebook"
   ]
  },
  {
   "cell_type": "code",
   "execution_count": 10,
   "metadata": {},
   "outputs": [],
   "source": [
    "def normalize_spaces(s):\n",
    "    \"\"\"\n",
    "    연결된 공백을 하나의 공백으로 변경\n",
    "    \"\"\"\n",
    "    return re.sub(r'\\s+', ' ', s).strip()"
   ]
  },
  {
   "cell_type": "code",
   "execution_count": 11,
   "metadata": {},
   "outputs": [],
   "source": [
    "def main():\n",
    "    # 여러 페이지에서 크롤링을 위해 Session 사용\n",
    "    session = requests.Session()  \n",
    "    # scrape_list_page() 함수를 호출해서 제너레이터를 추출\n",
    "    response = session.get('http://www.hanbit.co.kr/store/books/new_book_list.html')\n",
    "    urls = scrape_list_page(response)\n",
    "    for url in urls:\n",
    "        time.sleep(1)\n",
    "        response = session.get(url)  # Session을 사용해 상세 페이지를 추출\n",
    "        ebook = scrape_detail_page(response)  # 상세 페이지에서 상세 정보를 추출\n",
    "        print(ebook)  # 상세 정보 출력\n",
    "        #break\n",
    "    \n",
    "    "
   ]
  },
  {
   "cell_type": "code",
   "execution_count": null,
   "metadata": {},
   "outputs": [],
   "source": [
    "if __name__ == '__main__':\n",
    "    main()"
   ]
  },
  {
   "cell_type": "code",
   "execution_count": 13,
   "metadata": {},
   "outputs": [],
   "source": [
    "import requests\n",
    "import lxml.html\n",
    "import pandas as pd\n",
    "import sqlite3\n",
    "from pandas.io import sql\n",
    "import os"
   ]
  },
  {
   "cell_type": "code",
   "execution_count": 14,
   "metadata": {},
   "outputs": [],
   "source": [
    "REG_DATE = '20200819'"
   ]
  },
  {
   "cell_type": "code",
   "execution_count": 15,
   "metadata": {},
   "outputs": [
    {
     "name": "stdout",
     "output_type": "stream",
     "text": [
      "https://v.daum.net/v/20200819230943259 RUSSIA SPACE DOGS BELKA AND STRELKA\n",
      "https://v.daum.net/v/20200819230922257 트럼프 \"오라클은 대단한 회사\"..틱톡 인수 지지\n",
      "https://v.daum.net/v/20200819230858252 RUSSIA SPACE DOGS BELKA AND STRELKA\n",
      "https://v.daum.net/v/20200819230757249 RUSSIA SPACE DOGS BELKA AND STRELKA\n",
      "https://v.daum.net/v/20200819230752248 RUSSIA SPACE DOGS BELKA AND STRELKA\n",
      "https://v.daum.net/v/20200819230732247 RUSSIA SPACE DOGS BELKA AND STRELKA\n",
      "https://v.daum.net/v/20200819230639242 한국심리학회 연차학술대회 20~22일 열려\n",
      "https://v.daum.net/v/20200819230626241 RUSSIA SPACE DOGS BELKA AND STRELKA\n",
      "https://v.daum.net/v/20200819230623240 RUSSIA SPACE DOGS BELKA AND STRELKA\n",
      "https://v.daum.net/v/20200819230557231 RUSSIA SPACE DOGS BELKA AND STRELKA\n",
      "https://v.daum.net/v/20200819230516226 RUSSIA SPACE DOGS BELKA AND STRELKA\n",
      "https://v.daum.net/v/20200819230512224 RUSSIA SPACE DOGS BELKA AND STRELKA\n",
      "https://v.daum.net/v/20200819230448221 RUSSIA SPACE DOGS BELKA AND STRELKA\n",
      "https://v.daum.net/v/20200819225027087 글로벌창업사관학교 개교..글로벌 AI기업 육성 주력\n",
      "https://v.daum.net/v/20200819225004085 배틀그라운드, 신규 무기 'MG3'·'교란 수류탄' 추가\n"
     ]
    }
   ],
   "source": [
    "response = requests.get('https://news.daum.net/breakingnews/digital?regDate={}'.format(REG_DATE))                   \n",
    "root = lxml.html.fromstring(response.content)\n",
    "for li in root.xpath('//*[@id=\"mArticle\"]/div[3]/ul/li'):\n",
    "    a = li.xpath('div/strong/a')[0]\n",
    "    url = a.get('href')\n",
    "    print(url, a.text)"
   ]
  },
  {
   "cell_type": "code",
   "execution_count": 16,
   "metadata": {},
   "outputs": [],
   "source": [
    "import requests\n",
    "import lxml.html\n",
    "import pandas as pd\n",
    "import sqlite3\n",
    "from pandas.io import sql\n",
    "import os"
   ]
  },
  {
   "cell_type": "code",
   "execution_count": 17,
   "metadata": {},
   "outputs": [],
   "source": [
    "import re\n",
    "import string\n",
    "\n",
    "def get_detail(url):\n",
    "    body = []\n",
    "    punc = '[!\"#$%&\\'()*+,-./:;<=>?[\\]^_`{|}~“”·]'\n",
    "    response = requests.get(url)\n",
    "    root = lxml.html.fromstring(response.content)\n",
    "    for p in root.xpath('//*[@id=\"harmonyContainer\"]/section/p'):\n",
    "        if p.text: # 체크\n",
    "            body.append(re.sub(punc, '', p.text)) # 특수문자 제거\n",
    "    full_body = ' '.join(body)\n",
    "    \n",
    "    return full_body"
   ]
  },
  {
   "cell_type": "code",
   "execution_count": 18,
   "metadata": {},
   "outputs": [],
   "source": [
    "page = 1\n",
    "max_page = 0\n",
    "REG_DATE = '20200819'"
   ]
  },
  {
   "cell_type": "code",
   "execution_count": null,
   "metadata": {},
   "outputs": [],
   "source": [
    "response = requests.get('http://news.daum.net/breakingnews/digital?page={}&regDate={}'\\\n",
    "                        .format(page, REG_DATE))\n",
    "root = lxml.html.fromstring(response.content)\n",
    "for li in root.xpath('//*[@id=\"mArticle\"]/div[3]/ul/li'):\n",
    "    a = li.xpath('div/strong/a')[0]\n",
    "    url = a.get('href')\n",
    "    article = get_detail(url)\n",
    "    print(f'URL : {url}')\n",
    "    print(f'TITLE : {a.text}')\n",
    "    print(f'ARTICLE : {article}')\n",
    "    print('-' * 100)"
   ]
  },
  {
   "cell_type": "code",
   "execution_count": 20,
   "metadata": {},
   "outputs": [],
   "source": [
    "import requests\n",
    "import lxml.html\n",
    "import pandas as pd\n",
    "import sqlite3\n",
    "from pandas.io import sql\n",
    "import os\n",
    "import time"
   ]
  },
  {
   "cell_type": "code",
   "execution_count": 21,
   "metadata": {},
   "outputs": [],
   "source": [
    "def db_save(NEWS_LIST):\n",
    "    with sqlite3.connect(os.path.join('.','sqliteDB')) as con:\n",
    "        try:\n",
    "            NEWS_LIST.to_sql(name = 'NEWS_LIST', con = con, index = False, if_exists='append') \n",
    "            #if_exists : {'fail', 'replace', 'append'} default : fail\n",
    "        except Exception as e:\n",
    "            print(str(e))\n",
    "        print(len(NEWS_LIST), '건 저장완료..')"
   ]
  },
  {
   "cell_type": "code",
   "execution_count": 22,
   "metadata": {},
   "outputs": [],
   "source": [
    "def db_delete():\n",
    "    with sqlite3.connect(os.path.join('.','sqliteDB')) as con: \n",
    "        try:\n",
    "            cur = con.cursor()\n",
    "            sql = 'DELETE FROM NEWS_LIST'\n",
    "            cur.execute(sql)\n",
    "        except Exception as e:\n",
    "            print(str(e)) "
   ]
  },
  {
   "cell_type": "code",
   "execution_count": 23,
   "metadata": {},
   "outputs": [],
   "source": [
    "def db_select():\n",
    "    with sqlite3.connect(os.path.join('.','sqliteDB')) as con: \n",
    "        try:\n",
    "            query = 'SELECT * FROM NEWS_LIST'\n",
    "            NEWS_LIST = pd.read_sql(query, con = con)\n",
    "        except Exception as e:\n",
    "            print(str(e)) \n",
    "        return NEWS_LIST   \n"
   ]
  },
  {
   "cell_type": "code",
   "execution_count": 24,
   "metadata": {},
   "outputs": [],
   "source": [
    "import re\n",
    "import string\n",
    "\n",
    "def get_detail(url):\n",
    "    body = []\n",
    "    punc = '[!\"#$%&\\'()*+,-./:;<=>?[\\]^_`{|}~“”·]'\n",
    "    response = requests.get(url)\n",
    "    root = lxml.html.fromstring(response.content)\n",
    "    for p in root.xpath('//*[@id=\"harmonyContainer\"]/section/p'):\n",
    "        if p.text: # 체크\n",
    "            body.append(re.sub(punc, '', p.text)) # 특수문자 제거\n",
    "    full_body = ' '.join(body)\n",
    "    \n",
    "    return full_body"
   ]
  },
  {
   "cell_type": "code",
   "execution_count": 25,
   "metadata": {},
   "outputs": [],
   "source": [
    "page = 58\n",
    "max_page = 0\n",
    "REG_DATE = '20200819'"
   ]
  },
  {
   "cell_type": "code",
   "execution_count": 26,
   "metadata": {},
   "outputs": [
    {
     "name": "stdout",
     "output_type": "stream",
     "text": [
      "15 건 저장완료..\n",
      "15 건 저장완료..\n",
      "15 건 저장완료..\n",
      "13 건 저장완료..\n"
     ]
    }
   ],
   "source": [
    "while(True):\n",
    "    df_list = []\n",
    "    response = requests.get('http://news.daum.net/breakingnews/digital?page={}&regDate={}'\\\n",
    "                            .format(page, REG_DATE))\n",
    "    root = lxml.html.fromstring(response.content)\n",
    "    for li in root.xpath('//*[@id=\"mArticle\"]/div[3]/ul/li'):\n",
    "        a = li.xpath('div/strong/a')[0]\n",
    "        url = a.get('href')\n",
    "        article = get_detail(url)\n",
    "        df = pd.DataFrame({'URL' : [url],'TITLE':[a.text],'ARTICLE' : [article]})\n",
    "        df_list.append(df)   \n",
    "        \n",
    "    if df_list:   \n",
    "        df_10 = pd.concat(df_list)\n",
    "        db_save(df_10)\n",
    "\n",
    "    # 페이지 번호 중에서 max 페이지 가져오기    \n",
    "    for a in root.xpath('//*[@id=\"mArticle\"]/div[3]/div/span/a'):\n",
    "        try:\n",
    "            num = int(a.text)\n",
    "            if max_page < num:\n",
    "                max_page = num       \n",
    "        except:\n",
    "            pass\n",
    "\n",
    "    # 마지막 페이지 여부 확인     \n",
    "    span = root.xpath('//*[@id=\"mArticle\"]/div[3]/div/span/a[@class=\"btn_page btn_next\"]')\n",
    "\n",
    "    if (len(span) <= 0) & (page > max_page):\n",
    "        break\n",
    "    else:\n",
    "        page = page + 1\n",
    "        \n",
    "    time.sleep(1)      "
   ]
  },
  {
   "cell_type": "code",
   "execution_count": 27,
   "metadata": {},
   "outputs": [
    {
     "name": "stdout",
     "output_type": "stream",
     "text": [
      "                                       URL  \\\n",
      "0   https://v.daum.net/v/20200819084702255   \n",
      "1   https://v.daum.net/v/20200819084617234   \n",
      "2   https://v.daum.net/v/20200819084529215   \n",
      "3   https://v.daum.net/v/20200819084517208   \n",
      "4   https://v.daum.net/v/20200819084251134   \n",
      "5   https://v.daum.net/v/20200819083702982   \n",
      "6   https://v.daum.net/v/20200819083528956   \n",
      "7   https://v.daum.net/v/20200819083303903   \n",
      "8   https://v.daum.net/v/20200819083135880   \n",
      "9   https://v.daum.net/v/20200819082825812   \n",
      "10  https://v.daum.net/v/20200819082814806   \n",
      "11  https://v.daum.net/v/20200819082703784   \n",
      "12  https://v.daum.net/v/20200819082610764   \n",
      "13  https://v.daum.net/v/20200819082557759   \n",
      "14  https://v.daum.net/v/20200819082503742   \n",
      "15  https://v.daum.net/v/20200819082501741   \n",
      "16  https://v.daum.net/v/20200819082324702   \n",
      "17  https://v.daum.net/v/20200819081608550   \n",
      "18  https://v.daum.net/v/20200819080415266   \n",
      "19  https://v.daum.net/v/20200819080203202   \n",
      "20  https://v.daum.net/v/20200819080010140   \n",
      "21  https://v.daum.net/v/20200819080004130   \n",
      "22  https://v.daum.net/v/20200819075759074   \n",
      "23  https://v.daum.net/v/20200819075750071   \n",
      "24  https://v.daum.net/v/20200819075508014   \n",
      "25  https://v.daum.net/v/20200819073309665   \n",
      "26  https://v.daum.net/v/20200819071523473   \n",
      "27  https://v.daum.net/v/20200819071013428   \n",
      "28  https://v.daum.net/v/20200819070104296   \n",
      "29  https://v.daum.net/v/20200819070056287   \n",
      "30  https://v.daum.net/v/20200819070020266   \n",
      "31  https://v.daum.net/v/20200819070020265   \n",
      "32  https://v.daum.net/v/20200819070016259   \n",
      "33  https://v.daum.net/v/20200819070002227   \n",
      "34  https://v.daum.net/v/20200819063012943   \n",
      "35  https://v.daum.net/v/20200819062952928   \n",
      "36  https://v.daum.net/v/20200819062503895   \n",
      "37  https://v.daum.net/v/20200819060332620   \n",
      "38  https://v.daum.net/v/20200819060315614   \n",
      "39  https://v.daum.net/v/20200819060305605   \n",
      "40  https://v.daum.net/v/20200819060247590   \n",
      "41  https://v.daum.net/v/20200819060245589   \n",
      "42  https://v.daum.net/v/20200819060102528   \n",
      "43  https://v.daum.net/v/20200819060000426   \n",
      "44  https://v.daum.net/v/20200819054113224   \n",
      "45  https://v.daum.net/v/20200819053006071   \n",
      "46  https://v.daum.net/v/20200819052402971   \n",
      "47  https://v.daum.net/v/20200819050632662   \n",
      "48  https://v.daum.net/v/20200819050618638   \n",
      "49  https://v.daum.net/v/20200819050602624   \n",
      "50  https://v.daum.net/v/20200819042015362   \n",
      "51  https://v.daum.net/v/20200819030956010   \n",
      "52  https://v.daum.net/v/20200819030950009   \n",
      "53  https://v.daum.net/v/20200819030053787   \n",
      "54  https://v.daum.net/v/20200819021530691   \n",
      "55  https://v.daum.net/v/20200819010010384   \n",
      "56  https://v.daum.net/v/20200819004221292   \n",
      "57  https://v.daum.net/v/20200819000017909   \n",
      "\n",
      "                                                TITLE ARTICLE  \n",
      "0                        에기평, 코로나19 확산 방지 투명칸막이 무상 제공          \n",
      "1                    중국 선전시, 전지역 커버하는 '5G SA' 네트워크 구축          \n",
      "2                   상반기 전세계 모바일게임 지출 42조 돌파..반기 기준 최고          \n",
      "3               5분 충전에 600km 주행 가능..전기車 리튬금속전지 개발 본격화          \n",
      "4                       배달의민족, 비 피해 소상공인에 10만원 포인트 지원          \n",
      "5                    美 애질런트, 올리고 제조 시설 증설 결정..현재의 2배↑          \n",
      "6                             디지털뉴딜에 소상공인 온라인 도전 거세진다          \n",
      "7        [엔터테인&] '포스트 코로나' 공연 문화..피할 수 없으면 '온택트'로 즐겨라          \n",
      "8                       \"5분 충전 600km 주행\" 리튬금속전지 개발 착수          \n",
      "9                         전세계 게이머, 모바일게임에 상반기 42조원 썼다          \n",
      "10                       펄어비스, 코로나19 재확산 우려에 임직원 재택근무          \n",
      "11                        유튜브 뒷광고, MCN 향한 철퇴인가? 백신인가?          \n",
      "12                    \"앱마켓 인앱결제 강제 조사해야\"..코스포, 진정서 제출          \n",
      "13                       트렌비, 새 로고 선보여..누적 180억 투자 유치          \n",
      "14                      \"민폐 목사 전광훈 교도소로\"..댓글 불태운 40대男          \n",
      "15                    첫날부터 \"청언유착\" \"생떼 마라\"..8월 국회 첩천산중          \n",
      "16                    \"카메라에 습기 찬다\"..갤노트20, 결로현상 논란 시끌          \n",
      "17                            콘텐츠 감상 편하게.. 확 바뀌는 헬로TV          \n",
      "18                            애플뮤직,  新라디오 서비스로 재도약 추진          \n",
      "19                 \"우시바이오로직스, 상반기 호실적..내년 40%대 성장 회복\"          \n",
      "20                        中 HKC OLED 투자 보류..코로나19에 발목          \n",
      "21               '리모컨으로 채널돌리기 그만'..LG헬로, 넷플릭스처럼 UI 개편          \n",
      "22          '최불암 시리즈'가 광고로?..게임광고에 분 '뉴트로' 바람 [Oh!덕후]          \n",
      "23              트렌드마이크로, IT환경 보안위협 탐지·대응 'XDR 플랫폼' 출시          \n",
      "24                 6가지 색 '갤럭시S20 팬에디션' 이미지 유출..10월 출시          \n",
      "25                      오리온, '초코파이情 바나나' 4년 만에 리뉴얼 출시          \n",
      "26                            이웃집 확진자에 '도로 재택' 들어간 판교          \n",
      "27               \"토종 OTT '역차별' 없도록\"..OTT정책협의체 내주 실무회의          \n",
      "28                         태양계 밖 외계에서 온 '오우무아무아' 정체는?          \n",
      "29              \"술 취해 휘청거리는 당신, 스마트폰은 안다\"..개인 음주경고 성큼          \n",
      "30                    SKT, 코로나19로 채용난 겪는 협력사 50개사 돕는다          \n",
      "31        [사이테크 플러스] 음주사고로 절친잃은 슬픔에..스마트폰으로 걸음분석 과음파악          \n",
      "32             퍼스널 트레이닝을 비대면으로? - 스포투 [혁신, 스타트업을 만나다]          \n",
      "33                         쉽게 못 풀걸?..삼성, 그림으로 휴대폰 잠근다          \n",
      "34         [과학게시판] 정병선 과기차관, 연구장비산업 경쟁력 강화방안 간담회 가져 外          \n",
      "35       '전광훈 코로나 확진' 일파만파에 설훈 \"통합당이 집회 독려..대국민 사과해야\"          \n",
      "36                          \"내가 샀다\"는 삼성 모니터 리뷰도 '뒷광고'          \n",
      "37          네이버웹툰, 북미 1위 '로어 올림푸스' 한국어 버전 19일 국내 첫 공개          \n",
      "38              韓 제약사, 코로나19 악재에도 다양한 채널 통한 R&D 투자 확대          \n",
      "39                    기로에 선 화웨이 스마트폰 사업.. 11월에 운명 갈린다          \n",
      "40               페이스북 vs 방통위 '망 품질 책임론' 2심 결과 이번주 나온다          \n",
      "41              움츠리는 메모리 시장.. 하반기 삼성⋅하이닉스 실적 우려 현실화되나          \n",
      "42                        \"통행세 더 내라\" 구글·애플 횡포에 앱시장 전운          \n",
      "43                      고개드는 토종 OTT 통합론..넷플릭스 대항마 나올까          \n",
      "44                  카카오페이지, 글로벌 역량 갖춘 제작사 '크로스픽쳐스' 인수          \n",
      "45                 \"이태원때처럼\"..기지국 정보로 광화문집회 참석자 알 수 있나          \n",
      "46                     계속되는 코로나19 돌연변이..'칵테일 항체'로 잡는다          \n",
      "47                              투명한 공원 공중화장실, 왜 만들었을까          \n",
      "48                            부산 특구는 암호화폐를 비켜가지 않습니데이          \n",
      "49                   DAXPO 2020, 코로나19 이후 새로운 금융 토론한다          \n",
      "50                   코로나19 재확산 위험 커졌다.. 여름잠 준비하는 IT업계          \n",
      "51                               LG 벨벳, 최적의 메모리 용량 제안          \n",
      "52                      5G 보급과 함께 쑥쑥.. VR게임 대중화시대 열린다          \n",
      "53                \"게임에 빠진 아이와 소통하려면..'게임의 룰'부터 파악하세요\"          \n",
      "54  \"재택근무부터 온라인 콘서트까지..코로나19로 모바일이 삶에 뿌리내렸다\"[신무경의 ...          \n",
      "55               보름 앞으로 다가온 반쪽 행사 'IFA 2020'..강행 배경은?          \n",
      "56                    방심위, 진공 청소기 흡입력 오인케한 공영쇼핑에 '주의'          \n",
      "57            [TF초점] 기대 높아진 갤노트20, 상반기 갤S20 부진까지 씻어낼까          \n"
     ]
    }
   ],
   "source": [
    "print(db_select())"
   ]
  }
 ],
 "metadata": {
  "kernelspec": {
   "display_name": "base",
   "language": "python",
   "name": "python3"
  },
  "language_info": {
   "codemirror_mode": {
    "name": "ipython",
    "version": 3
   },
   "file_extension": ".py",
   "mimetype": "text/x-python",
   "name": "python",
   "nbconvert_exporter": "python",
   "pygments_lexer": "ipython3",
   "version": "3.9.12"
  },
  "orig_nbformat": 4,
  "vscode": {
   "interpreter": {
    "hash": "ad2bdc8ecc057115af97d19610ffacc2b4e99fae6737bb82f5d7fb13d2f2c186"
   }
  }
 },
 "nbformat": 4,
 "nbformat_minor": 2
}

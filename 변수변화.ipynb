{
 "cells": [
  {
   "attachments": {},
   "cell_type": "markdown",
   "metadata": {},
   "source": [
    "### 변수 변화"
   ]
  },
  {
   "cell_type": "code",
   "execution_count": null,
   "metadata": {},
   "outputs": [],
   "source": [
    "import os\n",
    "import warnings\n",
    "warnings.simplefilter(action='ignore', category=FutureWarning)\n",
    "\n",
    "import pandas as pd\n",
    "import numpy as np\n",
    "\n",
    "from sklearn.preprocessing import MinMaxScaler # min-max 스케일링\n",
    "from sklearn.preprocessing import StandardScaler # 표준화\n",
    "from scipy import stats\n",
    "\n",
    "import matplotlib.pyplot as plt\n",
    "import seaborn as sns\n",
    "\n",
    "# os 에 따른 Font 깨짐 제거를 위해 Font 지정\n",
    "if os.name == 'nt': # Windows\n",
    "    font_family = 'Malgun Gothic'\n",
    "else: #Mac\n",
    "    font_family = 'AppleGothic'\n",
    "# 값이 깨지는 문제 해결을 위해 파라미터 값 설정\n",
    "sns.set(font = font_family, rc = {\"axes.unicode_minus\" : False}) "
   ]
  },
  {
   "cell_type": "code",
   "execution_count": null,
   "metadata": {},
   "outputs": [],
   "source": [
    "train = pd.read_csv(r'C:\\Users\\user\\Desktop\\python workplace\\train.csv')\n",
    "test = pd.read_csv(r'C:\\Users\\user\\Desktop\\python workplace\\test.csv')\n",
    "\n",
    "train_test_data = [train,test]"
   ]
  },
  {
   "cell_type": "code",
   "execution_count": null,
   "metadata": {},
   "outputs": [],
   "source": [
    "type(train_test_data)\n"
   ]
  },
  {
   "cell_type": "code",
   "execution_count": null,
   "metadata": {},
   "outputs": [],
   "source": [
    "type(train)"
   ]
  },
  {
   "cell_type": "code",
   "execution_count": null,
   "metadata": {},
   "outputs": [],
   "source": [
    "data = train.copy()\n",
    "print(data.shape)\n",
    "data.describe(include = object) # 오브젝트 타입만 보고싶을때"
   ]
  },
  {
   "cell_type": "code",
   "execution_count": null,
   "metadata": {},
   "outputs": [],
   "source": [
    "data.info()"
   ]
  },
  {
   "cell_type": "code",
   "execution_count": null,
   "metadata": {},
   "outputs": [],
   "source": [
    "data.describe()"
   ]
  },
  {
   "cell_type": "code",
   "execution_count": null,
   "metadata": {},
   "outputs": [],
   "source": [
    "numerical_feats = data.dtypes[data.dtypes == 'int64'].index\n",
    "numerical_feats = numerical_feats.append(data.dtypes[data.dtypes == 'float64'].index)\n",
    "print('연속형 변수 카운트 :', len(numerical_feats))"
   ]
  },
  {
   "cell_type": "code",
   "execution_count": null,
   "metadata": {},
   "outputs": [],
   "source": [
    "numerical_feats"
   ]
  },
  {
   "cell_type": "code",
   "execution_count": null,
   "metadata": {},
   "outputs": [],
   "source": [
    "# skew() -> 왜도를 측정하기위한, -2 ~ +2는 치우침이 없는 데이터, -2 미만은 Negative Skew, +2 초과는 Positive Skew\n",
    "# Positive Skewness는 오른쪽에 꼬리를 가진(왼쪽에 데이터가 많은)형태이고, Negative Skewness는 왼쪽에 꼬리를 가진(오른쪽에 데이터가 많은) 형태\n",
    "\n",
    "# kurt() -> 첨도를 측정하기 위한, 확률분포의 뾰족한 정도. 표준정규분포와 비교하여 얼마나 뽀족한가 측정 지표\n",
    "# kurt = 0 : 표준정규분포정도\n",
    "# kurt < 0 : 표준정규분포보다 둥글다\n",
    "# kurt > 0 : 표준정규분포보다 뾰족\n",
    "\n",
    "for col in numerical_feats:\n",
    "    print('{:15}'.format(col),\n",
    "          'Skewness: {:05.2f}'.format(data[col].skew()),\n",
    "          'Kurosis: {:06.2f}'.format(data[col].kurt())\n",
    "        )\n",
    "    "
   ]
  },
  {
   "cell_type": "code",
   "execution_count": null,
   "metadata": {},
   "outputs": [],
   "source": [
    "f, ax = plt.subplots(figsize=(8,4))\n",
    "sns.distplot(data['Fare'])"
   ]
  },
  {
   "cell_type": "code",
   "execution_count": null,
   "metadata": {},
   "outputs": [],
   "source": [
    "data['Log_fare'] = np.log1p(data['Fare'])\n",
    "f,ax = plt.subplots(figsize = (8,4))\n",
    "sns.distplot(data['Log_fare'])\n",
    "\n",
    "print('Skewness: {:.3f}'.format(data['Log_fare'].skew()))\n",
    "print('Kurtosis: {:.3f}'.format(data['Log_fare'].kurt()))\n"
   ]
  },
  {
   "cell_type": "code",
   "execution_count": null,
   "metadata": {},
   "outputs": [],
   "source": [
    "data['Fare'].sort_values()\n",
    "data['Log_fare'].sort_values()"
   ]
  },
  {
   "cell_type": "code",
   "execution_count": null,
   "metadata": {},
   "outputs": [],
   "source": [
    "fig = plt.figure(figsize=(10,5))\n",
    "\n",
    "fig.add_subplot(1,2,1) # 행,렬, 그림 번호 -> 1개의 행에 2개의 열을 가진 첫번째 그림\n",
    "res = stats.probplot(data['Fare'], plot = plt)\n",
    "fig.add_subplot(1,2,2)\n",
    "res = stats.probplot(data['Log_fare'],plot = plt)"
   ]
  },
  {
   "cell_type": "code",
   "execution_count": null,
   "metadata": {},
   "outputs": [],
   "source": [
    "train_test_data[0].head()"
   ]
  },
  {
   "cell_type": "code",
   "execution_count": null,
   "metadata": {},
   "outputs": [],
   "source": [
    "train_test_data[0]['Age'].isnull().sum()"
   ]
  },
  {
   "cell_type": "code",
   "execution_count": null,
   "metadata": {},
   "outputs": [],
   "source": [
    "for dataset in train_test_data:\n",
    "    dataset['Title'] =  dataset['Name'].str.extract('([\\w]+)\\.',expand=False)\n",
    "    \n",
    "for dataset in train_test_data:\n",
    "    dataset['Title'] = dataset['Title'].apply(lambda x:0 if x == 'Mr' else 1 if x == 'Miss' else 2 if x=='Mrs' else 3 if x == 'Master' else 4)\n",
    "\n",
    "for dataset in train_test_data:\n",
    "    dataset['Age'].fillna(dataset.groupby('Title')['Age'].transform('median'),inplace=True)\n"
   ]
  },
  {
   "cell_type": "code",
   "execution_count": null,
   "metadata": {},
   "outputs": [],
   "source": [
    "# Min-Max 정규화\n",
    "scaler = MinMaxScaler()\n",
    "\n",
    "for dataset in train_test_data:\n",
    "    array = dataset['Age'].values.reshape(-1,1) # 2D array로 변환\n",
    "    scaler.fit(array)  #스케일링에 필요한 값(최소값, range 등) 계산\n",
    "    dataset['AgeScale'] = pd.Series(scaler.transform(array).reshape(-1))\n",
    "\n",
    "train_test_data[0].head()"
   ]
  },
  {
   "cell_type": "code",
   "execution_count": null,
   "metadata": {},
   "outputs": [],
   "source": [
    "# Min-Max 정규화 전 Age 변수의 min, max 값\n",
    "print(train['Age'].min())\n",
    "print(train['Age'].max())\n",
    "\n",
    "# Min-Max 정규화 후 Agescale 변수의 min, max 값\n",
    "print(train['AgeScale'].min())\n",
    "print(train['AgeScale'].max())\n",
    "\n"
   ]
  },
  {
   "cell_type": "code",
   "execution_count": null,
   "metadata": {},
   "outputs": [],
   "source": [
    "# Min-Max 정규화 전, 후 Age 속성과 AgeScale 속성의 산점도 비교\n",
    "plt.figure(figsize=(12,6))\n",
    "plt.subplot(1,2,1)\n",
    "scatter_plot = sns.scatterplot(x = 'Age',y='Fare',hue = 'Sex',data=train)\n",
    "plt.title('Age (Original)', fontsize = 16)\n",
    "\n",
    "plt.subplot(1,2,2)\n",
    "scatter_plot = sns.scatterplot(x = 'AgeScale',y='Fare',hue = 'Sex',data=train)\n",
    "plt.title('Age (Scaled)', fontsize = 16)"
   ]
  },
  {
   "cell_type": "code",
   "execution_count": null,
   "metadata": {},
   "outputs": [],
   "source": [
    "train_test_data[0].head()"
   ]
  },
  {
   "cell_type": "code",
   "execution_count": null,
   "metadata": {},
   "outputs": [],
   "source": [
    "for dataset in train_test_data:\n",
    "    dataset['Fare'].fillna(dataset.groupby('Pclass')['Fare'].transform('median'),\n",
    "                           inplace = True)\n",
    "# 표준화 수행\n",
    "scaler = StandardScaler()\n",
    "\n",
    "for dataset in train_test_data:\n",
    "    array = dataset['Fare'].values.reshape(-1,1)\n",
    "    scaler.fit(array)\n",
    "    dataset['FareScale'] = pd.Series(scaler.transform(array).reshape(-1))\n",
    "train_test_data[0]"
   ]
  },
  {
   "cell_type": "code",
   "execution_count": null,
   "metadata": {},
   "outputs": [],
   "source": [
    "# 표준화 전 Fare 변수의 mean, var 값\n",
    "print(train[\"Fare\"].mean())\n",
    "print(train[\"Fare\"].var())\n",
    "print(\"     \")\n",
    "# 표준화 후 Fare 변수의 mean, var 값\n",
    "print(train['FareScale'].mean())\n",
    "print(train['FareScale'].var())\n"
   ]
  },
  {
   "cell_type": "code",
   "execution_count": null,
   "metadata": {},
   "outputs": [],
   "source": [
    "# 표준화 전, 후 Fare 변수와 FareScale 변수의 산점도 비교\n",
    "\n",
    "plt.figure(figsize=(12,6))\n",
    "plt.subplot(1,2,1)\n",
    "scatter_plot = sns.scatterplot(x='Fare',y='AgeScale',hue = 'Sex', data=train)\n",
    "plt.title(\"Fare (Original)\", fontsize=16)\n",
    "\n",
    "plt.subplot(1,2,2)\n",
    "scatter_plot = sns.scatterplot(x='FareScale',y='AgeScale',hue = 'Sex', data=train)\n",
    "plt.title(\"Fare (Scaled)\", fontsize=16)"
   ]
  },
  {
   "cell_type": "code",
   "execution_count": null,
   "metadata": {},
   "outputs": [],
   "source": [
    "plt.figure(figsize=(12,6))\n",
    "plt.subplot(1,2,1)\n",
    "dis_plot = sns.distplot(train['Fare'], label = \"Fare\")\n",
    "plt.title('Fare (Origianl)', fontsize=16)\n",
    "\n",
    "plt.subplot(1,2,2)\n",
    "dis_plot = sns.distplot(train['FareScale'], label = \"FareScale\")\n",
    "plt.title('Fare (Scaled)', fontsize=16)\n",
    "plt.show()"
   ]
  }
 ],
 "metadata": {
  "kernelspec": {
   "display_name": "base",
   "language": "python",
   "name": "python3"
  },
  "language_info": {
   "codemirror_mode": {
    "name": "ipython",
    "version": 3
   },
   "file_extension": ".py",
   "mimetype": "text/x-python",
   "name": "python",
   "nbconvert_exporter": "python",
   "pygments_lexer": "ipython3",
   "version": "3.9.12"
  },
  "orig_nbformat": 4,
  "vscode": {
   "interpreter": {
    "hash": "ad2bdc8ecc057115af97d19610ffacc2b4e99fae6737bb82f5d7fb13d2f2c186"
   }
  }
 },
 "nbformat": 4,
 "nbformat_minor": 2
}
